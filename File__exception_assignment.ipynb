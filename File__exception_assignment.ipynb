{
  "nbformat": 4,
  "nbformat_minor": 0,
  "metadata": {
    "colab": {
      "provenance": []
    },
    "kernelspec": {
      "name": "python3",
      "display_name": "Python 3"
    },
    "language_info": {
      "name": "python"
    }
  },
  "cells": [
    {
      "cell_type": "markdown",
      "source": [
        "1.  What is the difference between interpreted and compiled languages?"
      ],
      "metadata": {
        "id": "bL66h6INyZOO"
      }
    },
    {
      "cell_type": "markdown",
      "source": [],
      "metadata": {
        "id": "7N3V5Wa8znVg"
      }
    },
    {
      "cell_type": "markdown",
      "source": [
        "Ans. The main difference between interpreted and compiled languages lies in how they translate and execute code. Interpreted languages translate and execute code line by line, while compiled languages translate the entire code into machine code before execution."
      ],
      "metadata": {
        "id": "m_QvVKNIznXy"
      }
    },
    {
      "cell_type": "markdown",
      "source": [
        "2. What is exception handling in Python?\n",
        "\n"
      ],
      "metadata": {
        "id": "jKDjYswbzwXv"
      }
    },
    {
      "cell_type": "markdown",
      "source": [
        "Ans. Exception handling in Python is a mechanism to manage errors that occur during the execution of a program."
      ],
      "metadata": {
        "id": "2GjcaaWDz9oo"
      }
    },
    {
      "cell_type": "markdown",
      "source": [
        "3. What is the purpose of the finally block in exception handling?\n"
      ],
      "metadata": {
        "id": "HEoXFpAs0TuR"
      }
    },
    {
      "cell_type": "markdown",
      "source": [
        "Ans. The purpose of the finally block in exception handling is to ensure that certain code, often cleanup or resource release code, is executed regardless of whether an exception occurs within the try block or not. It guarantees that specific actions are performed, ensuring the program's stability and preventing resource leaks."
      ],
      "metadata": {
        "id": "sPpAWPXy4c7E"
      }
    },
    {
      "cell_type": "markdown",
      "source": [
        "4. What is logging in Python?\n",
        "\n"
      ],
      "metadata": {
        "id": "BNlM8sjx41L6"
      }
    },
    {
      "cell_type": "markdown",
      "source": [
        "Ans. Logging is the process of keeping records of activities and data of a software program."
      ],
      "metadata": {
        "id": "3LW7AObu46gh"
      }
    },
    {
      "cell_type": "markdown",
      "source": [
        "5. What is the significance of the __del__ method in Python?\n"
      ],
      "metadata": {
        "id": "G7V2Ahsb5BRn"
      }
    },
    {
      "cell_type": "markdown",
      "source": [
        "Ans. The __del__ method in Python is a special method called a destructor. It is used to define cleanup behavior when an object is about to be destroyed.It allows you to release resources like files, sockets, or database connections when an object is deleted. It is called automatically when the object’s reference count reaches zero (i.e., it’s no longer in use)."
      ],
      "metadata": {
        "id": "JlwQLcnV5ISb"
      }
    },
    {
      "cell_type": "markdown",
      "source": [
        "6. What is the difference between import and from ... import in Python?\n"
      ],
      "metadata": {
        "id": "tOb7u7qz7K5_"
      }
    },
    {
      "cell_type": "markdown",
      "source": [
        "Ans. **import Statement**:\n",
        "\n",
        "   i. Imports the entire module.\n",
        "\n",
        "   ii. You must use the module name as a prefix to access its contents.\n",
        "\n",
        "   **from ... import Statement:**\n",
        "\n",
        "  i. Imports a specific part (function, class, variable) from the module.\n",
        "\n",
        "  ii. You can use it directly without the module prefix."
      ],
      "metadata": {
        "id": "XsSAIMEw7Vu1"
      }
    },
    {
      "cell_type": "markdown",
      "source": [
        "7. How can you handle multiple exceptions in Python?\n"
      ],
      "metadata": {
        "id": "3TkDRH9q8NOv"
      }
    },
    {
      "cell_type": "markdown",
      "source": [
        "Ans. In Python, multiple exceptions can be handled using various methods within a try-except block.\n",
        "\n",
        "i. Multiple except Clauses\n",
        "\n",
        "ii. Single except Clause with a Tuple\n",
        "\n",
        "iii. Using a Base Exception Class\n",
        "\n",
        "iv. except* Clause\n",
        "\n",
        "\n",
        "\n"
      ],
      "metadata": {
        "id": "MM4V3aAo8RMH"
      }
    },
    {
      "cell_type": "markdown",
      "source": [
        "8. What is the purpose of the with statement when handling files in Python?\n"
      ],
      "metadata": {
        "id": "YoBdF7_Q-FiX"
      }
    },
    {
      "cell_type": "markdown",
      "source": [
        "Ans. The with statement in Python is used for simplifying resource management, especially when working with files. Its main purpose is to ensure that resources (like files) are properly closed, even if an error occurs during operation."
      ],
      "metadata": {
        "id": "4kMjyQEk-NW5"
      }
    },
    {
      "cell_type": "markdown",
      "source": [
        "9. What is the difference between multithreading and multiprocessing?\n"
      ],
      "metadata": {
        "id": "ab32CiHh-fpn"
      }
    },
    {
      "cell_type": "markdown",
      "source": [
        "Ans. **Multithreading:**\n",
        "\n",
        "i. Runs multiple threads within a single process.\n",
        "\n",
        "ii. All threads share the same memory space.\n",
        "\n",
        "iii. Suitable for tasks that involve a lot of input/output operations,\n",
        "like waiting for network data or user input.\n",
        "iv. Can be faster for small, interconnected tasks.\n",
        "\n",
        "v. Can enhance application responsiveness by separating time-consuming tasks from the main thread, preventing UI freezing.\n",
        "\n",
        "**Multiprocessing:**\n",
        "\n",
        "i. Uses multiple processors (CPU cores) to run different processes concurrently.\n",
        "\n",
        "ii. Each process has its own memory space.\n",
        "\n",
        "iii. Best for CPU-bound tasks, like number crunching or data processing, that can be broken down into smaller parts and executed in parallel.\n",
        "\n",
        "iv. Can achieve significant speedup for large, separate tasks.\n",
        "\n",
        "v. Can lead to a more robust system as an error in one process won't necessarily affect other processes.\n"
      ],
      "metadata": {
        "id": "yOH3tA3I-j6X"
      }
    },
    {
      "cell_type": "markdown",
      "source": [
        "10. What are the advantages of using logging in a program?\n"
      ],
      "metadata": {
        "id": "f4DEFX3v_bCZ"
      }
    },
    {
      "cell_type": "markdown",
      "source": [
        "Ans. Using logging in a program offers several key advantages over using simple print() statements. Logging provides a powerful, flexible, and standardized way to track what’s happening in your code — especially important for debugging, monitoring, and maintaining applications."
      ],
      "metadata": {
        "id": "X4iTc4LUALYj"
      }
    },
    {
      "cell_type": "markdown",
      "source": [
        "11. What is memory management in Python?\n"
      ],
      "metadata": {
        "id": "aIKRw_kZAPDx"
      }
    },
    {
      "cell_type": "markdown",
      "source": [
        "Ans. Memory management in Python refers to how Python handles the allocation, use, and release of memory used by variables, objects, and data structures during program execution."
      ],
      "metadata": {
        "id": "uaNfPXMyAZ9j"
      }
    },
    {
      "cell_type": "markdown",
      "source": [
        "12. What are the basic steps involved in exception handling in Python?\n"
      ],
      "metadata": {
        "id": "BvJWpKKrAee0"
      }
    },
    {
      "cell_type": "markdown",
      "source": [
        "Ans. Exception handling in Python lets you gracefully deal with errors instead of crashing your program. The basic steps involve using special keywords to catch, handle, and clean up after exceptions.\n",
        "\n",
        "i. try Block\n",
        "\n",
        "ii. The except Block\n",
        "\n",
        "iii. else Block (Optional)\n",
        "\n",
        "iv. finally Block (Optional)"
      ],
      "metadata": {
        "id": "-_5txq5tAiFz"
      }
    },
    {
      "cell_type": "markdown",
      "source": [
        "13. Why is memory management important in Python?\n"
      ],
      "metadata": {
        "id": "B9kTWxOOUo12"
      }
    },
    {
      "cell_type": "markdown",
      "source": [
        "Ans. Memory Management Is Important in Python for the following reasons:-\n",
        "\n",
        "i.  Prevents Memory Leaks\n",
        "\n",
        "ii. Improves Performance\n",
        "\n",
        "iii. Supports Large-Scale Applications\n",
        "\n",
        "iv. Avoids Crashes and Freezing\n",
        "\n",
        "v.  Ensures Resource Cleanup"
      ],
      "metadata": {
        "id": "Nt6bL-8EUtNE"
      }
    },
    {
      "cell_type": "markdown",
      "source": [
        "14. What is the role of try and except in exception handling?\n"
      ],
      "metadata": {
        "id": "Hlnx2yacVJVO"
      }
    },
    {
      "cell_type": "markdown",
      "source": [
        "Ans. The try and except blocks form the core of exception handling in Python. They allow your program to catch and handle errors gracefully, instead of crashing."
      ],
      "metadata": {
        "id": "2ERfy1XuVN8k"
      }
    },
    {
      "cell_type": "markdown",
      "source": [
        "15. How does Python's garbage collection system work?\n"
      ],
      "metadata": {
        "id": "eqFmlu6-VUWE"
      }
    },
    {
      "cell_type": "markdown",
      "source": [
        "Ans. Python uses a hybrid garbage collection approach i.e reference counting and generational garbage collection.\n",
        "\n",
        "\n",
        "1. **Reference Counting**:\n",
        "\n",
        "i. When an object is created, its reference count is initialized to 1.\n",
        "\n",
        "ii. When another variable or container refers to the same object, the reference count is incremented.\n",
        "\n",
        "iii. When a reference to an object is removed, the reference count is decremented.\n",
        "\n",
        "iv. If the reference count reaches zero, the object is deallocated, and its memory is freed.\n",
        "\n",
        "v. This mechanism works well for most cases but can fail to deallocate objects involved in cyclic references.\n",
        "\n",
        "2. **Generational Garbage Collection**:\n",
        "\n",
        "i. Python uses a \"generational\" approach, classifying objects into three generations: 0, 1, and 2.\n",
        "\n",
        "ii. New objects are placed in generation 0.\n",
        "\n",
        "iii. Objects that survive a garbage collection cycle are moved to the next higher generation.\n",
        "\n",
        "iv. The garbage collector periodically runs to identify and collect objects that are no longer reachable.\n",
        "\n",
        "v. This process is done in two phases:\n",
        "\n",
        "  Mark: The garbage collector marks all reachable objects by starting from root objects (variables in the current stack frame) and following references.\n",
        "\n",
        "  Sweep: The garbage collector then identifies and deallocates memory occupied by unmarked objects.\n",
        "\n",
        "vi. Generational garbage collection helps handle cyclic references, which cannot be resolved by reference counting alone.\n",
        "\n",
        "vii. When a cyclic reference is detected, the garbage collector breaks the cycle and deallocates the memory\n"
      ],
      "metadata": {
        "id": "S5a3Yv3NVZc7"
      }
    },
    {
      "cell_type": "markdown",
      "source": [
        "16. What is the purpose of the else block in exception handling?\n"
      ],
      "metadata": {
        "id": "_tx9C5vWpAVC"
      }
    },
    {
      "cell_type": "markdown",
      "source": [
        "Ans. The else block in Python exception handling is used to define code that should run only if no exceptions were raised in the try block."
      ],
      "metadata": {
        "id": "gBq9N_RRpGH5"
      }
    },
    {
      "cell_type": "markdown",
      "source": [
        "17. What are the common logging levels in Python?\n"
      ],
      "metadata": {
        "id": "qt_Pp5dV8dHY"
      }
    },
    {
      "cell_type": "markdown",
      "source": [
        "Ans. The common logging levels in python are:-\n",
        "\n",
        "i. Debug\n",
        "\n",
        "ii. Info\n",
        "\n",
        "iii. Warning\n",
        "\n",
        "iv. Error\n",
        "\n",
        "v. Critical"
      ],
      "metadata": {
        "id": "cQyU3HFn8gEg"
      }
    },
    {
      "cell_type": "markdown",
      "source": [
        "18. What is the difference between os.fork() and multiprocessing in Python?\n"
      ],
      "metadata": {
        "id": "4WKj61Q99abF"
      }
    },
    {
      "cell_type": "markdown",
      "source": [
        "Ans. **os.fork()** – Low-Level Process Creation\n",
        " Description:\n",
        "\n",
        "  Direct system call that creates a child process by duplicating the parent.\n",
        "\n",
        "  Returns:\n",
        "\n",
        "       i. 0 in the child process\n",
        "\n",
        "       ii. The child’s PID in the parent process\n",
        "\n",
        "\n",
        "\n",
        "**multiprocessing** – High-Level Process Management\n",
        " Description:\n",
        "\n",
        "  Python’s standard high-level API for spawning and managing processes.\n",
        "\n",
        "  Works on all platforms (Windows, macOS, Linux).\n",
        "\n",
        "  Includes tools for:\n",
        "\n",
        "        i. Sharing data (e.g., Queue, Pipe, Value)\n",
        "\n",
        "       ii.  Process pools\n",
        "\n",
        "       iii. Synchronization (e.g., Lock, Event)"
      ],
      "metadata": {
        "id": "Ciy67JqI9-F5"
      }
    },
    {
      "cell_type": "markdown",
      "source": [
        "19. What is the importance of closing a file in Python?\n"
      ],
      "metadata": {
        "id": "mlYTvzXpBcT7"
      }
    },
    {
      "cell_type": "markdown",
      "source": [
        "Ans. Closing a file in Python is essential because it ensures that resources are released properly and data is safely written or saved."
      ],
      "metadata": {
        "id": "ocvR42qzBf2D"
      }
    },
    {
      "cell_type": "markdown",
      "source": [
        "20. What is the difference between file.read() and file.readline() in Python?\n"
      ],
      "metadata": {
        "id": "g2z8stFrBrB8"
      }
    },
    {
      "cell_type": "markdown",
      "source": [
        "Ans. **file.read()**\n",
        "\n",
        "  i. Reads the entire contents of the file (or a specified number of characters).\n",
        "\n",
        "  ii. Returns the result as a single string.\n",
        "\n",
        " ** file.readline()**\n",
        "\n",
        "  i. Reads just one line from the file at a time.\n",
        "\n",
        "  ii. Returns a string ending with a newline (\\n) if the line is not the last one."
      ],
      "metadata": {
        "id": "1yhO35s_Bvkt"
      }
    },
    {
      "cell_type": "markdown",
      "source": [
        "21. What is the logging module in Python used for?\n"
      ],
      "metadata": {
        "id": "oIQ4nwv3CITz"
      }
    },
    {
      "cell_type": "markdown",
      "source": [
        "Ans. The logging module in Python is used to track events that happen during program execution. It provides a flexible way to record debug info, errors, warnings, or system messages to help developers understand and maintain their applications."
      ],
      "metadata": {
        "id": "Vzgw7JWECMsA"
      }
    },
    {
      "cell_type": "markdown",
      "source": [
        "22. What is the os module in Python used for in file handling?\n"
      ],
      "metadata": {
        "id": "vMaP0Ik2Eq1m"
      }
    },
    {
      "cell_type": "markdown",
      "source": [
        "Ans. The os module in Python provides a way to interact with the operating system, especially for file and directory operations. It allows you to navigate, manage, and manipulate files and directories independently of the platform."
      ],
      "metadata": {
        "id": "XHcAbG0TE1ax"
      }
    },
    {
      "cell_type": "markdown",
      "source": [
        "23. What are the challenges associated with memory management in Python?\n"
      ],
      "metadata": {
        "id": "4_ib78_aE7vx"
      }
    },
    {
      "cell_type": "markdown",
      "source": [
        "Ans. Common Challenges in Python Memory Managemen are:-\n",
        "\n",
        "i. Circular References\n",
        "\n",
        "ii. Memory Leaks\n",
        "\n",
        "iii. Large Object Retention\n",
        "\n",
        "iv. Unpredictable Garbage Collection\n",
        "\n",
        "v. Shared References and Mutability\n",
        "\n",
        "vi. Overhead of Python Objects"
      ],
      "metadata": {
        "id": "NR7NFYKxFAk5"
      }
    },
    {
      "cell_type": "markdown",
      "source": [
        "24. How do you raise an exception manually in Python?\n"
      ],
      "metadata": {
        "id": "0ztBk2fAGC1t"
      }
    },
    {
      "cell_type": "markdown",
      "source": [
        "Ans. In Python, you can raise an exception manually using the raise statement. This is useful when you want to signal that something went wrong in your code — even if Python wouldn't normally raise an error in that case."
      ],
      "metadata": {
        "id": "h5AHrCTgGHdD"
      }
    },
    {
      "cell_type": "markdown",
      "source": [
        "25. Why is it important to use multithreading in certain applications?"
      ],
      "metadata": {
        "id": "Tb0ScXKOGdj1"
      }
    },
    {
      "cell_type": "markdown",
      "source": [
        "Ans. Multithreading is important in applications where multiple tasks can run concurrently, especially when they involve waiting (e.g., for I/O). It improves responsiveness, efficiency, and resource utilization — particularly in real-time and user-facing programs."
      ],
      "metadata": {
        "id": "_AXfVqD_Ghz7"
      }
    },
    {
      "cell_type": "markdown",
      "source": [
        "# Practical Questions"
      ],
      "metadata": {
        "id": "18mlITGzGveq"
      }
    },
    {
      "cell_type": "markdown",
      "source": [
        "1. How can you open a file for writing in Python and write a string to it?\n"
      ],
      "metadata": {
        "id": "X5xdjftuGz6M"
      }
    },
    {
      "cell_type": "code",
      "source": [
        "with open(\"luffy.txt\", \"w\") as file:\n",
        "    file.write(\"hello, how  are you\")"
      ],
      "metadata": {
        "id": "laEORIxvG4Wx"
      },
      "execution_count": 2,
      "outputs": []
    },
    {
      "cell_type": "markdown",
      "source": [
        "2. Write a Python program to read the contents of a file and print each line?\n"
      ],
      "metadata": {
        "id": "gnTqBe-LJDDa"
      }
    },
    {
      "cell_type": "code",
      "source": [
        "with open(\"luffy.txt\", \"w\") as file:\n",
        "    file.write(\"i am luffy\\n\")\n",
        "    file.write(\"my house is in dubai\\n\")\n",
        "    file.write(\"i have a porsche\\n\")\n",
        "\n",
        "with open(\"luffy.txt\", \"r\") as file:\n",
        "    for line in file:\n",
        "        print(line.strip())\n"
      ],
      "metadata": {
        "id": "hv-0iKEC5GXr",
        "colab": {
          "base_uri": "https://localhost:8080/"
        },
        "outputId": "358c8dc2-2c80-4f81-aa0a-247e30ef1b5f"
      },
      "execution_count": 6,
      "outputs": [
        {
          "output_type": "stream",
          "name": "stdout",
          "text": [
            "i am luffy\n",
            "my house is in dubai\n",
            "i have a porsche\n"
          ]
        }
      ]
    },
    {
      "cell_type": "markdown",
      "source": [
        "3. How would you handle a case where the file doesn't exist while trying to open it for reading?\n"
      ],
      "metadata": {
        "id": "Rki-eK7P_YrR"
      }
    },
    {
      "cell_type": "code",
      "source": [
        "filename = \"doesnot_exist.txt\"\n",
        "\n",
        "try:\n",
        "    with open(filename, \"r\") as file:\n",
        "        for line in file:\n",
        "            print(line.strip())\n",
        "except FileNotFoundError:\n",
        "    print(f\"Error: The file '{filename}' does not exist.\")"
      ],
      "metadata": {
        "colab": {
          "base_uri": "https://localhost:8080/"
        },
        "id": "WQdICEe3_alZ",
        "outputId": "0c252b5e-b3b1-43c1-8b0f-69a61f73adb0"
      },
      "execution_count": 15,
      "outputs": [
        {
          "output_type": "stream",
          "name": "stdout",
          "text": [
            "Error: The file 'doesnot_exist.txt' does not exist.\n"
          ]
        }
      ]
    },
    {
      "cell_type": "markdown",
      "source": [
        "4. Write a Python script that reads from one file and writes its content to another file?\n",
        "\n"
      ],
      "metadata": {
        "id": "ZqZZ9Wg3Fn75"
      }
    },
    {
      "cell_type": "code",
      "source": [
        "with open(\"source.txt\", \"w\") as source_file:\n",
        "    source_file.write(\"Hello i am luffy\\n\")\n",
        "    source_file.write(\"This is my world\\n\")\n",
        "\n",
        "with open(\"source.txt\", \"r\") as source_file, open(\"destination.txt\", \"w\") as destination_file:\n",
        "    for line in source_file:\n",
        "        destination_file.write(line)\n",
        "print(\"File copied successfully from 'source.txt' to 'destination.txt'.\")"
      ],
      "metadata": {
        "colab": {
          "base_uri": "https://localhost:8080/"
        },
        "id": "rQLNBt4CFrgf",
        "outputId": "19cade54-90c4-49e2-b177-4687237d1e35"
      },
      "execution_count": 18,
      "outputs": [
        {
          "output_type": "stream",
          "name": "stdout",
          "text": [
            "File copied successfully from 'source.txt' to 'destination.txt'.\n"
          ]
        }
      ]
    },
    {
      "cell_type": "markdown",
      "source": [
        "5. How would you catch and handle division by zero error in Python?\n"
      ],
      "metadata": {
        "id": "lsMpykuUGXY_"
      }
    },
    {
      "cell_type": "code",
      "source": [
        "numerator = 10\n",
        "denominator = 0\n",
        "\n",
        "try:\n",
        "    result = numerator / denominator\n",
        "    print(\"Result:\", result)\n",
        "except ZeroDivisionError:\n",
        "    print(\"Error: Cannot divide by zero.\")"
      ],
      "metadata": {
        "colab": {
          "base_uri": "https://localhost:8080/"
        },
        "id": "R27_duInJy7A",
        "outputId": "fd2355e4-de06-4277-f71c-b51ac35f2fcb"
      },
      "execution_count": 1,
      "outputs": [
        {
          "output_type": "stream",
          "name": "stdout",
          "text": [
            "Error: Cannot divide by zero.\n"
          ]
        }
      ]
    },
    {
      "cell_type": "markdown",
      "source": [
        "6. Write a Python program that logs an error message to a log file when a division by zero exception occurs?\n"
      ],
      "metadata": {
        "id": "M-1NYEpxqaJN"
      }
    },
    {
      "cell_type": "code",
      "source": [
        "import logging\n",
        "logging.basicConfig(filename='error.log', level=logging.ERROR)\n",
        "\n",
        "try:\n",
        "    a = 10\n",
        "    b = 0\n",
        "    result = a / b\n",
        "except ZeroDivisionError:\n",
        "    logging.error(\"Error: Division by zero!\")\n",
        "    print(\"Cannot divide by zero. Error.\")"
      ],
      "metadata": {
        "colab": {
          "base_uri": "https://localhost:8080/"
        },
        "id": "Gjtx1aJHqe9P",
        "outputId": "5fbc8321-08be-4a05-ff1b-9fffa74643b9"
      },
      "execution_count": 3,
      "outputs": [
        {
          "output_type": "stream",
          "name": "stderr",
          "text": [
            "ERROR:root:Error: Division by zero!\n"
          ]
        },
        {
          "output_type": "stream",
          "name": "stdout",
          "text": [
            "Cannot divide by zero. Error.\n"
          ]
        }
      ]
    },
    {
      "cell_type": "markdown",
      "source": [
        "7. How do you log information at different levels (INFO, ERROR, WARNING) in Python using the logging module?\n"
      ],
      "metadata": {
        "id": "Z5uaNUoUq-bp"
      }
    },
    {
      "cell_type": "code",
      "source": [
        "import logging\n",
        "logging.basicConfig(\n",
        "    filename='app.log',\n",
        "    level=logging.DEBUG,\n",
        ")\n",
        "logging.info(\"This is an INFO message\")\n",
        "logging.warning(\"This is a WARNING message\")\n",
        "logging.error(\"This is an ERROR message\")"
      ],
      "metadata": {
        "colab": {
          "base_uri": "https://localhost:8080/"
        },
        "id": "wejF54zcrB0q",
        "outputId": "4ea43258-4ef5-4309-b39d-87e4106ee170"
      },
      "execution_count": 8,
      "outputs": [
        {
          "output_type": "stream",
          "name": "stderr",
          "text": [
            "WARNING:root:This is a WARNING message\n",
            "ERROR:root:This is an ERROR message\n"
          ]
        }
      ]
    },
    {
      "cell_type": "markdown",
      "source": [
        "8. Write a program to handle a file opening error using exception handling?\n",
        "\n"
      ],
      "metadata": {
        "id": "W6mXZuFSrqMs"
      }
    },
    {
      "cell_type": "code",
      "source": [
        "try:\n",
        "    file = open(\"example.txt\", \"r\")\n",
        "    content = file.read()\n",
        "    print(content)\n",
        "    file.close()\n",
        "except FileNotFoundError:\n",
        "    print(\"Error: The file was not found.\")"
      ],
      "metadata": {
        "colab": {
          "base_uri": "https://localhost:8080/"
        },
        "id": "Fni9XKinrwu2",
        "outputId": "cdb51ee7-2084-481e-ad0d-1a0b5a39048d"
      },
      "execution_count": 10,
      "outputs": [
        {
          "output_type": "stream",
          "name": "stdout",
          "text": [
            "Error: The file was not found.\n"
          ]
        }
      ]
    },
    {
      "cell_type": "markdown",
      "source": [
        "9. How can you read a file line by line and store its content in a list in Python?\n"
      ],
      "metadata": {
        "id": "XSkDwc1Jr4sd"
      }
    },
    {
      "cell_type": "code",
      "source": [
        "\n",
        "try:\n",
        "    with open(\"luffy.txt\", \"r\") as file:\n",
        "        lines = [line.strip() for line in file]\n",
        "\n",
        "    print(\"File content as a list:\")\n",
        "    print(lines)\n",
        "\n",
        "except FileNotFoundError:\n",
        "    print(\"Error: 'luffy.txt' not found.\")"
      ],
      "metadata": {
        "colab": {
          "base_uri": "https://localhost:8080/"
        },
        "id": "zSBhUAf3sMa0",
        "outputId": "4485dfab-c1a2-4ec1-dc0c-4c607242c631"
      },
      "execution_count": 17,
      "outputs": [
        {
          "output_type": "stream",
          "name": "stdout",
          "text": [
            "Error: 'luffy.txt' not found.\n"
          ]
        }
      ]
    },
    {
      "cell_type": "markdown",
      "source": [
        "10. How can you append data to an existing file in Python?\n"
      ],
      "metadata": {
        "id": "vd3ksW4isfo1"
      }
    },
    {
      "cell_type": "code",
      "source": [
        "try:\n",
        "    with open(\"luffy.txt\", \"a\") as file:\n",
        "        file.write(\"bhoot\")\n",
        "    print(\"My name is 'luffy.txt'.\")\n",
        "except Exception as e:\n",
        "    print(\"An error occurred:\", e)"
      ],
      "metadata": {
        "colab": {
          "base_uri": "https://localhost:8080/"
        },
        "id": "T30BW21Esjn5",
        "outputId": "42d4f7f3-ed54-47e3-f96e-5b2285e0154e"
      },
      "execution_count": 27,
      "outputs": [
        {
          "output_type": "stream",
          "name": "stdout",
          "text": [
            "My name is 'luffy.txt'.\n"
          ]
        }
      ]
    },
    {
      "cell_type": "markdown",
      "source": [
        "11. Write a Python program that uses a try-except block to handle an error when attempting to access a dictionary key that doesn't exist?"
      ],
      "metadata": {
        "id": "ZbltQ1_Ktd0Y"
      }
    },
    {
      "cell_type": "code",
      "source": [
        "student = {\n",
        "    \"name\": \"shamu\",\n",
        "    \"age\": 20\n",
        "}\n",
        "\n",
        "try:\n",
        "    grade = student[\"grade\"]\n",
        "    print(\"Grade:\", grade)\n",
        "except KeyError:\n",
        "    print(\"Error: 'grade' key does not exist in the dictionary.\")"
      ],
      "metadata": {
        "colab": {
          "base_uri": "https://localhost:8080/"
        },
        "id": "dMxysaXUtkYC",
        "outputId": "6304a4c5-9042-48e3-ed24-08eb37c713c9"
      },
      "execution_count": 28,
      "outputs": [
        {
          "output_type": "stream",
          "name": "stdout",
          "text": [
            "Error: 'grade' key does not exist in the dictionary.\n"
          ]
        }
      ]
    },
    {
      "cell_type": "markdown",
      "source": [
        "12. Write a program that demonstrates using multiple except blocks to handle different types of exceptions?\n"
      ],
      "metadata": {
        "id": "3Nu6z5-ltvnO"
      }
    },
    {
      "cell_type": "code",
      "source": [
        "try:\n",
        "    num = int(input(\"Enter a number: \"))\n",
        "    result = 10 / num\n",
        "    print(\"Result:\", result)\n",
        "\n",
        "    my_list = [1, 2, 3]\n",
        "    print(my_list[3])\n",
        "\n",
        "except ZeroDivisionError:\n",
        "    print(\"Cannot divide by zero!\")\n",
        "\n",
        "except ValueError:\n",
        "    print(\"Please enter a valid number!\")\n",
        "\n",
        "except IndexError:\n",
        "    print(\"List index out of range!\")"
      ],
      "metadata": {
        "colab": {
          "base_uri": "https://localhost:8080/"
        },
        "id": "Qa63uUgit0G9",
        "outputId": "1f4e1eea-bb4f-4179-a6fa-9f7789ad5662"
      },
      "execution_count": 31,
      "outputs": [
        {
          "output_type": "stream",
          "name": "stdout",
          "text": [
            "Enter a number: 2\n",
            "Result: 5.0\n",
            "List index out of range!\n"
          ]
        }
      ]
    },
    {
      "cell_type": "markdown",
      "source": [
        "13. How would you check if a file exists before attempting to read it in Python?\n"
      ],
      "metadata": {
        "id": "XMaoVyJ3z2Z3"
      }
    },
    {
      "cell_type": "code",
      "source": [
        "import os\n",
        "\n",
        "filename = \"luffhy.txt\"\n",
        "\n",
        "if os.path.exists(filename):\n",
        "    with open(filename, \"r\") as file:\n",
        "        print(file.read())\n",
        "else:\n",
        "    print(\"File does not exist.\")"
      ],
      "metadata": {
        "colab": {
          "base_uri": "https://localhost:8080/"
        },
        "id": "7zuuLweFz4cQ",
        "outputId": "880a7466-8722-4812-ac70-a8d2a3706e03"
      },
      "execution_count": 52,
      "outputs": [
        {
          "output_type": "stream",
          "name": "stdout",
          "text": [
            "File does not exist.\n"
          ]
        }
      ]
    },
    {
      "cell_type": "markdown",
      "source": [
        "14. Write a program that uses the logging module to log both informational and error messages?"
      ],
      "metadata": {
        "id": "kp74HTIM4tGh"
      }
    },
    {
      "cell_type": "code",
      "source": [
        "import logging\n",
        "\n",
        "logging.basicConfig(filename='app.log', level=logging.INFO)\n",
        "\n",
        "logging.info(\"This is an info message.\")\n",
        "\n",
        "try:\n",
        "    10 / 0\n",
        "except ZeroDivisionError:\n",
        "    logging.error(\"Error: Division by zero!\")"
      ],
      "metadata": {
        "colab": {
          "base_uri": "https://localhost:8080/"
        },
        "id": "qs6H8yB30-AL",
        "outputId": "2844f5cd-5f16-4787-9a67-19ba7cc113e1"
      },
      "execution_count": 36,
      "outputs": [
        {
          "output_type": "stream",
          "name": "stderr",
          "text": [
            "ERROR:root:Error: Division by zero!\n"
          ]
        }
      ]
    },
    {
      "cell_type": "markdown",
      "source": [
        "15. Write a Python program that prints the content of a file and handles the case when the file is empty?\n"
      ],
      "metadata": {
        "id": "PQ3GrNXq1GTw"
      }
    },
    {
      "cell_type": "code",
      "source": [
        "filename = \"luffyg.txt\"\n",
        "\n",
        "try:\n",
        "    with open(filename, \"r\") as file:\n",
        "        content = file.read()\n",
        "        if content:\n",
        "            print(\"File content:\")\n",
        "            print(content)\n",
        "        else:\n",
        "            print(\"The file is empty.\")\n",
        "except FileNotFoundError:\n",
        "    print(f\"Error: '{filename}' does not exist.\")"
      ],
      "metadata": {
        "colab": {
          "base_uri": "https://localhost:8080/"
        },
        "id": "_nPoaXnl1MEA",
        "outputId": "9a1f1d2e-7bb2-448f-8115-20867fdf7c35"
      },
      "execution_count": 51,
      "outputs": [
        {
          "output_type": "stream",
          "name": "stdout",
          "text": [
            "Error: 'luffyg.txt' does not exist.\n"
          ]
        }
      ]
    },
    {
      "cell_type": "markdown",
      "source": [
        "16. Demonstrate how to use memory profiling to check the memory usage of a small program?\n"
      ],
      "metadata": {
        "id": "Tp5PTaCX1V0o"
      }
    },
    {
      "cell_type": "code",
      "source": [
        "from memory_profiler import profile\n",
        "\n",
        "@profile\n",
        "def create_list():\n",
        "    my_list = []\n",
        "    for i in range(100000):\n",
        "        my_list.append(i)\n",
        "    return my_list\n",
        "\n",
        "if __name__ == \"__main__\":\n",
        "    create_list()"
      ],
      "metadata": {
        "id": "vw8AN1rQ1727"
      },
      "execution_count": null,
      "outputs": []
    },
    {
      "cell_type": "markdown",
      "source": [
        "17. Write a Python program to create and write a list of numbers to a file, one number per line?\n"
      ],
      "metadata": {
        "id": "MfWq4VUo2O9H"
      }
    },
    {
      "cell_type": "code",
      "source": [
        "numbers = [10, 20, 30, 40, 50]\n",
        "\n",
        "with open(\"numbers.txt\", \"w\") as file:\n",
        "    for num in numbers:\n",
        "        file.write(str(num) + \"\\n\")\n",
        "\n",
        "print(\"Numbers written to numbers.txt\")"
      ],
      "metadata": {
        "colab": {
          "base_uri": "https://localhost:8080/"
        },
        "id": "IGrG_x6e2Ud9",
        "outputId": "86c4533a-1a5f-4c94-cd8d-dc49b30faf4e"
      },
      "execution_count": 40,
      "outputs": [
        {
          "output_type": "stream",
          "name": "stdout",
          "text": [
            "Numbers written to numbers.txt\n"
          ]
        }
      ]
    },
    {
      "cell_type": "markdown",
      "source": [
        "18. How would you implement a basic logging setup that logs to a file with rotation after 1MB?\n"
      ],
      "metadata": {
        "id": "bTsk2chM2kNy"
      }
    },
    {
      "cell_type": "code",
      "source": [
        "import logging\n",
        "from logging.handlers import RotatingFileHandler\n",
        "\n",
        "logging.basicConfig(\n",
        "    handlers=[RotatingFileHandler(\"app.log\", maxBytes=1_000_000, backupCount=3)],\n",
        "    level=logging.INFO,\n",
        "    format=\"%(asctime)s - %(levelname)s - %(message)s\"\n",
        ")\n",
        "\n",
        "logging.info(\"This is an info message.\")\n",
        "logging.error(\"This is an error message.\")"
      ],
      "metadata": {
        "colab": {
          "base_uri": "https://localhost:8080/"
        },
        "id": "XiZH2Js125MI",
        "outputId": "d7e3b24f-f96e-410a-991c-86128ea6b543"
      },
      "execution_count": 41,
      "outputs": [
        {
          "output_type": "stream",
          "name": "stderr",
          "text": [
            "ERROR:root:This is an error message.\n"
          ]
        }
      ]
    },
    {
      "cell_type": "markdown",
      "source": [
        "19. Write a program that handles both IndexError and KeyError using a try-except block?\n"
      ],
      "metadata": {
        "id": "cuu69wIz272l"
      }
    },
    {
      "cell_type": "code",
      "source": [
        "my_list = [10, 20, 30]\n",
        "my_dict = {\"a\": 1, \"b\": 2}\n",
        "\n",
        "try:\n",
        "    print(my_list[5])\n",
        "    print(my_dict[\"c\"])\n",
        "except IndexError:\n",
        "    print(\"Caught an IndexError: list index out of range.\")\n",
        "except KeyError:\n",
        "    print(\"Caught a KeyError: key not found in dictionary.\")"
      ],
      "metadata": {
        "colab": {
          "base_uri": "https://localhost:8080/"
        },
        "id": "GX4PIvV926WI",
        "outputId": "8690c6e4-16b0-4e7c-d1c2-246b4fed1096"
      },
      "execution_count": 42,
      "outputs": [
        {
          "output_type": "stream",
          "name": "stdout",
          "text": [
            "Caught an IndexError: list index out of range.\n"
          ]
        }
      ]
    },
    {
      "cell_type": "markdown",
      "source": [
        "20. How would you open a file and read its contents using a context manager in Python?\n"
      ],
      "metadata": {
        "id": "ql2AFsNP3ggY"
      }
    },
    {
      "cell_type": "code",
      "source": [
        "with open(\"luffy.txt\", \"r\") as file:\n",
        "    content = file.read()\n",
        "    print(content)"
      ],
      "metadata": {
        "colab": {
          "base_uri": "https://localhost:8080/"
        },
        "id": "C816o_9X3fQw",
        "outputId": "882765d8-ffc4-4071-cd95-6ff0da7bc4f7"
      },
      "execution_count": 50,
      "outputs": [
        {
          "output_type": "stream",
          "name": "stdout",
          "text": [
            "This line is added to the file.\n",
            "mera goan kaha h\n",
            "bhootbhoot\n"
          ]
        }
      ]
    },
    {
      "cell_type": "markdown",
      "source": [
        "21. Write a Python program that reads a file and prints the number of occurrences of a specific word?\n",
        "\n"
      ],
      "metadata": {
        "id": "IZLAEqDp3rqt"
      }
    },
    {
      "cell_type": "code",
      "source": [
        "filename = \"examplesammu.txt\"\n",
        "word_to_count = \"python\"\n",
        "\n",
        "try:\n",
        "    with open(filename, \"r\") as file:\n",
        "        content = file.read().lower()\n",
        "        count = content.split().count(word_to_count.lower())\n",
        "    print(f\"The word '{word_to_count}' occurs {count} times in the file.\")\n",
        "except FileNotFoundError:\n",
        "    print(f\"Error: The file '{filename}' does not exist.\")"
      ],
      "metadata": {
        "colab": {
          "base_uri": "https://localhost:8080/"
        },
        "id": "I2tmUGUh3v9q",
        "outputId": "2bab4d71-741b-4523-eba4-bc738585b6e6"
      },
      "execution_count": 47,
      "outputs": [
        {
          "output_type": "stream",
          "name": "stdout",
          "text": [
            "Error: The file 'examplesammu.txt' does not exist.\n"
          ]
        }
      ]
    },
    {
      "cell_type": "markdown",
      "source": [
        "22. How can you check if a file is empty before attempting to read its contents?\n"
      ],
      "metadata": {
        "id": "LaMSi6nd31IG"
      }
    },
    {
      "cell_type": "code",
      "source": [
        "import os\n",
        "\n",
        "filename = \"sam.txt\"\n",
        "\n",
        "if os.path.exists(filename) and os.path.getsize(filename) > 0:\n",
        "    with open(filename, \"r\") as file:\n",
        "        content = file.read()\n",
        "        print(content)\n",
        "else:\n",
        "    print(\"File is empty or does not exist.\")"
      ],
      "metadata": {
        "colab": {
          "base_uri": "https://localhost:8080/"
        },
        "id": "I1W2f7g73zxj",
        "outputId": "7489b78b-06ff-4047-ccc8-aa80b474ad64"
      },
      "execution_count": 46,
      "outputs": [
        {
          "output_type": "stream",
          "name": "stdout",
          "text": [
            "File is empty or does not exist.\n"
          ]
        }
      ]
    },
    {
      "cell_type": "markdown",
      "source": [
        "23. Write a Python program that writes to a log file when an error occurs during file handling.\n"
      ],
      "metadata": {
        "id": "3E-7LvaA4Yc2"
      }
    },
    {
      "cell_type": "code",
      "source": [
        "import logging\n",
        "\n",
        "logging.basicConfig(filename='file_errors.log', level=logging.ERROR)\n",
        "\n",
        "try:\n",
        "    with open(\"data.txt\", \"r\") as file:\n",
        "        print(file.read())\n",
        "except FileNotFoundError:\n",
        "    logging.error(\"File not found: data.txt\")\n",
        "    print(\"Error: File not found.\")"
      ],
      "metadata": {
        "colab": {
          "base_uri": "https://localhost:8080/"
        },
        "id": "C0nNosth4bw6",
        "outputId": "63435c47-d17c-4e0e-f4d6-c628e68962ea"
      },
      "execution_count": 53,
      "outputs": [
        {
          "output_type": "stream",
          "name": "stderr",
          "text": [
            "ERROR:root:File not found: data.txt\n"
          ]
        },
        {
          "output_type": "stream",
          "name": "stdout",
          "text": [
            "Error: File not found.\n"
          ]
        }
      ]
    },
    {
      "cell_type": "code",
      "source": [],
      "metadata": {
        "id": "Q9i1wwtv4kmp"
      },
      "execution_count": null,
      "outputs": []
    }
  ]
}